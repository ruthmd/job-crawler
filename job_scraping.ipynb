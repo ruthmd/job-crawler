{
 "cells": [
  {
   "cell_type": "code",
   "execution_count": 1,
   "metadata": {
    "colab": {},
    "colab_type": "code",
    "id": "VWXD-3NSsvh4"
   },
   "outputs": [],
   "source": [
    "import os\n",
    "import json\n",
    "import requests\n",
    "from bs4 import BeautifulSoup\n",
    "from multiprocessing import Pool"
   ]
  },
  {
   "cell_type": "code",
   "execution_count": 2,
   "metadata": {
    "colab": {},
    "colab_type": "code",
    "id": "y-ThVzgwsvh9"
   },
   "outputs": [],
   "source": [
    "response = requests.get(\"https://www.cermati.com/karir\")\n",
    "soup = BeautifulSoup(response.text, 'lxml')"
   ]
  },
  {
   "cell_type": "code",
   "execution_count": 3,
   "metadata": {
    "colab": {},
    "colab_type": "code",
    "id": "9btLeEI4sviA"
   },
   "outputs": [],
   "source": [
    "def scrape_info(url):\n",
    "    info = dict()\n",
    "    description = []\n",
    "    qualfication = []\n",
    "    resp = requests.get(url)\n",
    "    job_info = BeautifulSoup(resp.text, 'lxml')\n",
    "    \n",
    "    info['title'] = job_info.main.h1.text\n",
    "    info['location']=job_info.main.ul.li.span.text\n",
    "    \n",
    "    try:\n",
    "        soup2 = BeautifulSoup(str(job_info.find('div', {'itemprop':'responsibilities'})), 'lxml')\n",
    "        for li in  soup2.ul.contents:\n",
    "            description.append(li.text.replace('\\u00a0', '').replace('\\u2019', \"'\").strip('\\xa0'))\n",
    "        info['description']=description\n",
    "    except AttributeError as e:\n",
    "        print(\"No description\")    \n",
    "    \n",
    "    try:\n",
    "        soup3 = BeautifulSoup(str(job_info.find('div', {'itemprop':'qualifications'})), 'lxml')\n",
    "        for li in  soup3.ul.contents:\n",
    "            qualfication.append(li.text.replace('\\u00a0', '').replace('\\u2019', \"'\").strip('\\xa0'))\n",
    "        info['qualfication']=qualfication\n",
    "    except AttributeError as e:\n",
    "        print(\"No qualfication\")\n",
    "    \n",
    "    return info\n",
    "    "
   ]
  },
  {
   "cell_type": "code",
   "execution_count": null,
   "metadata": {
    "colab": {
     "base_uri": "https://localhost:8080/",
     "height": 248
    },
    "colab_type": "code",
    "id": "PnoWNVIGsviD",
    "outputId": "bbd3f138-65fb-485b-8dbb-2a6bce143b4c"
   },
   "outputs": [
    {
     "name": "stdout",
     "output_type": "stream",
     "text": [
      "fetching: Engineering\n"
     ]
    }
   ],
   "source": [
    "dept_job = dict()\n",
    "for tab in range(6):\n",
    "    dept = soup.find_all('div', {'id': 'tab'+str(tab)})\n",
    "    soup_dept = BeautifulSoup(str(dept), 'lxml')\n",
    "    \n",
    "    print(\"fetching: \" + soup_dept.h4.text)\n",
    "\n",
    "    job_info = []\n",
    "    url = []\n",
    "    jobs = soup_dept.find_all('div', {'class': 'clickable-row row'})\n",
    "    for j in jobs:\n",
    "        job_url = BeautifulSoup(str(j), 'lxml')\n",
    "        url.append(job_url.a.get('href').split()[0])\n",
    "        \n",
    "\n",
    "    with Pool(os.cpu_count()) as p:\n",
    "        job_info = p.map(scrape_info, url)\n",
    "    \n",
    "    dept_job[soup_dept.h4.text]=job_info"
   ]
  },
  {
   "cell_type": "code",
   "execution_count": 31,
   "metadata": {
    "colab": {},
    "colab_type": "code",
    "id": "WaO83sq9sviF"
   },
   "outputs": [],
   "source": [
    "with open('result.json', 'w') as fp:\n",
    "    json.dump(dept_job, fp)"
   ]
  }
 ],
 "metadata": {
  "colab": {
   "name": "job-scraping.ipynb",
   "provenance": []
  },
  "kernelspec": {
   "display_name": "Python 3",
   "language": "python",
   "name": "python3"
  },
  "language_info": {
   "codemirror_mode": {
    "name": "ipython",
    "version": 3
   },
   "file_extension": ".py",
   "mimetype": "text/x-python",
   "name": "python",
   "nbconvert_exporter": "python",
   "pygments_lexer": "ipython3",
   "version": "3.7.9"
  }
 },
 "nbformat": 4,
 "nbformat_minor": 1
}
